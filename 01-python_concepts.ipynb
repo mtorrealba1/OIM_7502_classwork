{
 "cells": [
  {
   "cell_type": "markdown",
   "id": "9383bafa",
   "metadata": {},
   "source": [
    "### Python Programming Concepts"
   ]
  },
  {
   "cell_type": "markdown",
   "id": "17df7d6e",
   "metadata": {},
   "source": [
    "#### 1. Create a variable to store the value 500 for sales"
   ]
  },
  {
   "cell_type": "code",
   "execution_count": 1,
   "id": "a5f43c2f",
   "metadata": {},
   "outputs": [
    {
     "data": {
      "text/plain": [
       "500"
      ]
     },
     "execution_count": 1,
     "metadata": {},
     "output_type": "execute_result"
    }
   ],
   "source": [
    "sales = 500\n",
    "sales"
   ]
  },
  {
   "cell_type": "markdown",
   "id": "6dc8b9ea",
   "metadata": {},
   "source": [
    "#### 2. Create a variable to store several values:  \n",
    "* sales: 500, 475, 625\n",
    "* integers 1 - 9 "
   ]
  },
  {
   "cell_type": "code",
   "execution_count": 8,
   "id": "902fe3bd",
   "metadata": {
    "scrolled": true
   },
   "outputs": [
    {
     "name": "stdout",
     "output_type": "stream",
     "text": [
      "500\n",
      "475\n",
      "625\n"
     ]
    }
   ],
   "source": [
    "my_list = [500, 475, 625]\n",
    "\n",
    "for value in my_list:\n",
    "    print(value)\n",
    "    \n",
    "integers = list(range(1,10))"
   ]
  },
  {
   "cell_type": "markdown",
   "id": "62e55953",
   "metadata": {},
   "source": [
    "#### 3. Create a variable to store the names and email addresses for a number of customers\n",
    "* John, john@some.com; Ann, ann@some.com"
   ]
  },
  {
   "cell_type": "code",
   "execution_count": 9,
   "id": "03f2b161",
   "metadata": {},
   "outputs": [
    {
     "data": {
      "text/plain": [
       "[{'name': 'John', 'email': 'john@some.com'},\n",
       " {'name': 'Ann', 'email': 'ann@some.com'}]"
      ]
     },
     "execution_count": 9,
     "metadata": {},
     "output_type": "execute_result"
    }
   ],
   "source": [
    "#For this, create a dictionary, it enables to bring one value from another. This case, keys are needed and : as well\n",
    "emails = {'John':'john@some.com', 'Ann':'ann@some.com'}\n",
    "\n",
    "emails['John']\n",
    "\n",
    "#you can also make a list of dictionaries\n",
    "\n",
    "customers = [{\"name\":'John', 'email':'john@some.com'},{\"name\":'Ann', 'email':'ann@some.com'}]\n",
    "\n",
    "customers"
   ]
  },
  {
   "cell_type": "markdown",
   "id": "d6b1e8c6",
   "metadata": {},
   "source": [
    "#### 4. Use Python to generate a random value based on each of following:\n",
    "1. between 0 and 1\n",
    "2. the standard normal distribution (rounded to two decimal places)\n",
    "3. a value between 1 and 10\n",
    "4. either H or T"
   ]
  },
  {
   "cell_type": "code",
   "execution_count": 2,
   "id": "f004d7b5",
   "metadata": {},
   "outputs": [
    {
     "name": "stdout",
     "output_type": "stream",
     "text": [
      "0.8164140835903883\n"
     ]
    }
   ],
   "source": [
    "#you need to import a library called random\n",
    "#this library allows you to use the random.random() formula which will bring a value between 1 and 0 randomly\n",
    "import random\n",
    "random_value = random.random()\n",
    "print(random_value)"
   ]
  },
  {
   "cell_type": "code",
   "execution_count": 12,
   "id": "b39cd5d1",
   "metadata": {},
   "outputs": [
    {
     "name": "stdout",
     "output_type": "stream",
     "text": [
      "-0.07\n"
     ]
    }
   ],
   "source": [
    "#Once the random library is called, you can also use the random.gauss formula which will bring a value of a\n",
    "#normaldistribution.\n",
    "#To only have 2 decimals, it is needed a round(number,decimals)\n",
    "\n",
    "random_value = round(random.gauss(0, 1), 2)\n",
    "print(random_value)"
   ]
  },
  {
   "cell_type": "code",
   "execution_count": 7,
   "id": "1a29e601",
   "metadata": {},
   "outputs": [
    {
     "name": "stdout",
     "output_type": "stream",
     "text": [
      "8\n"
     ]
    }
   ],
   "source": [
    "random_value = random.randrange(1, 11)\n",
    "print(random_value)"
   ]
  },
  {
   "cell_type": "code",
   "execution_count": 13,
   "id": "3a150c3e",
   "metadata": {},
   "outputs": [
    {
     "data": {
      "text/plain": [
       "'T'"
      ]
     },
     "execution_count": 13,
     "metadata": {},
     "output_type": "execute_result"
    }
   ],
   "source": [
    "#The formula random.choice, allows to randomly choose from 2 values\n",
    "random_value2 = random.choice (['H','T'])\n",
    "random_value2"
   ]
  },
  {
   "cell_type": "code",
   "execution_count": 4,
   "id": "f80f4b3b",
   "metadata": {},
   "outputs": [
    {
     "name": "stdout",
     "output_type": "stream",
     "text": [
      "TTHTTTTTTT\n"
     ]
    },
    {
     "data": {
      "text/plain": [
       "['', '', 'H', '', '', '', '', '', '', '']"
      ]
     },
     "execution_count": 4,
     "metadata": {},
     "output_type": "execute_result"
    }
   ],
   "source": [
    "#if we needed to flip the coin several times, we can also\n",
    "flips = ''\n",
    "for flip in range(10):\n",
    "    flips += random.choice([\"H\",\"T\"])\n",
    "print (flips)\n",
    "flips.split(\"T\")"
   ]
  },
  {
   "cell_type": "markdown",
   "id": "7eddf06a",
   "metadata": {},
   "source": [
    "#### 5. Use Python to determine your current working directory"
   ]
  },
  {
   "cell_type": "code",
   "execution_count": 22,
   "id": "d8f79474",
   "metadata": {},
   "outputs": [
    {
     "name": "stdout",
     "output_type": "stream",
     "text": [
      "Current Working Directory: C:\\Users\\migue\\OneDrive\\Documentos\\4. Babson\\1. Miguel Torrealba Schwarz\\8. Semester 2\\2.OIM7502_Advanced_Programming\\0. Class Material\n"
     ]
    }
   ],
   "source": [
    "#They key is to import os to getthe os.getcwd\n",
    "\n",
    "import os\n",
    "\n",
    "current_directory = os.getcwd()\n",
    "print(\"Current Working Directory:\", current_directory)"
   ]
  },
  {
   "cell_type": "markdown",
   "id": "fc43ec50",
   "metadata": {},
   "source": [
    "#### 6. Use Python to determine how many days until New Year's Day"
   ]
  },
  {
   "cell_type": "code",
   "execution_count": 23,
   "id": "13f630fe",
   "metadata": {},
   "outputs": [
    {
     "name": "stdout",
     "output_type": "stream",
     "text": [
      "Days until New Year's Day: 349\n"
     ]
    }
   ],
   "source": [
    "#Using the datetime\n",
    "\n",
    "from datetime import datetime, timedelta\n",
    "\n",
    "# Get the current date\n",
    "current_date = datetime.now()\n",
    "\n",
    "# Define the target date (New Year's Day)\n",
    "new_years_day = datetime(current_date.year + 1, 1, 1)\n",
    "\n",
    "# Calculate the difference in days\n",
    "days_until_new_year = (new_years_day - current_date).days\n",
    "\n",
    "print(\"Days until New Year's Day:\", days_until_new_year)"
   ]
  },
  {
   "cell_type": "markdown",
   "id": "2ba4ea92",
   "metadata": {},
   "source": [
    "#### 7. Write a short program that displays the future value of 1,000 earning 5%  at the end of each year for the next 5 years"
   ]
  },
  {
   "cell_type": "code",
   "execution_count": 26,
   "id": "6fef4a8c",
   "metadata": {},
   "outputs": [
    {
     "name": "stdout",
     "output_type": "stream",
     "text": [
      "Future value after 5 years: $1276.28\n",
      "Year 1: $1050.0\n",
      "Year 2: $1102.5\n",
      "Year 3: $1157.6250000000002\n",
      "Year 4: $1215.5062500000001\n",
      "Year 5: $1276.2815625000003\n"
     ]
    }
   ],
   "source": [
    "#Defining the variables\n",
    "principal = 1000\n",
    "annual_interest_rate = 0.05\n",
    "years = 5\n",
    "\n",
    "# Calculate future value with the NPV formula (check if there is a library with NPV)\n",
    "future_value = principal * (1 + annual_interest_rate) ** years\n",
    "print(f\"Future value after {years} years: ${round(future_value, 2)}\")\n",
    "\n",
    "\n",
    "\n",
    "# Calculate and display future value at the end of each year\n",
    "for year in range(1, years + 1):\n",
    "    future_value = principal * (1 + annual_interest_rate) ** year\n",
    "    print(f\"Year {year}: ${future_value}\")"
   ]
  },
  {
   "cell_type": "markdown",
   "id": "150201c8",
   "metadata": {},
   "source": [
    "#### 8. Write a short program that prompts a user to enter a stock symbol and press enter. Add each symbol entered to a variable. The program should run until the user presses the enter key without entering anything (empty string) "
   ]
  },
  {
   "cell_type": "code",
   "execution_count": 29,
   "id": "931a346f",
   "metadata": {},
   "outputs": [
    {
     "name": "stdout",
     "output_type": "stream",
     "text": [
      "Enter stock symbol or press enter to quit: APPL\n",
      "Enter stock symbol or press enter to quit: MSFT\n",
      "Enter stock symbol or press enter to quit: ARK\n",
      "Enter stock symbol or press enter to quit: \n",
      "['APPL', 'MSFT', 'ARK']\n"
     ]
    }
   ],
   "source": [
    "stocks = []\n",
    "while True:\n",
    "    symbol = input (\"Enter stock symbol or press enter to quit: \")\n",
    "    if symbol == '':\n",
    "        break\n",
    "    stocks.append(symbol)\n",
    "print (stocks)"
   ]
  },
  {
   "cell_type": "markdown",
   "id": "fc2a7592",
   "metadata": {},
   "source": [
    "#### 9. Write the code necessary to calculate the sum of the square differences of a group of values : \n",
    "58, 32, 37, 41, 36, 36, 54, 37, 25, 53\n",
    "##### $\\Sigma $(${x}$ - $\\bar{x}$)$^2$"
   ]
  },
  {
   "cell_type": "markdown",
   "id": "89a7db2f",
   "metadata": {},
   "source": []
  },
  {
   "cell_type": "code",
   "execution_count": 13,
   "id": "b5de4749",
   "metadata": {},
   "outputs": [
    {
     "name": "stdout",
     "output_type": "stream",
     "text": [
      "40.9\n",
      "292.41\n",
      "371.62\n",
      "386.83\n",
      "386.84\n",
      "410.84999999999997\n",
      "434.85999999999996\n",
      "606.47\n",
      "621.6800000000001\n",
      "874.49\n",
      "1020.9\n"
     ]
    }
   ],
   "source": [
    "list2=[58,32,37,41,36,36,54,37,25,53]\n",
    "\n",
    "average_list= sum(list2)/len(list2)\n",
    "print(average_list)\n",
    "\n",
    "square_diff=0\n",
    "\n",
    "for value in list2:\n",
    "    square_diff += round((value-average_list)**2,2)\n",
    "    print(square_diff)"
   ]
  },
  {
   "cell_type": "markdown",
   "id": "6d6f2e64",
   "metadata": {},
   "source": [
    "#### 10. Opening, reading and writing files"
   ]
  },
  {
   "cell_type": "code",
   "execution_count": 16,
   "id": "f7fa569d",
   "metadata": {},
   "outputs": [
    {
     "data": {
      "text/plain": [
       "'test'"
      ]
     },
     "execution_count": 16,
     "metadata": {},
     "output_type": "execute_result"
    }
   ],
   "source": [
    "#First create a file (that is why we use W after the comma, then we write test on it, and close it)\n",
    "file=open('file_name.txt','w')\n",
    "file.write('test')\n",
    "file.close()\n",
    "\n",
    "#For reading the file use 'r', even though it is a default\n",
    "file=open('file_name.txt', 'r')\n",
    "file.read()"
   ]
  },
  {
   "cell_type": "markdown",
   "id": "eec548d6",
   "metadata": {},
   "source": [
    "#### 11. Create a function the will simulate rolling two die and return the value of each and and the sum "
   ]
  },
  {
   "cell_type": "code",
   "execution_count": 24,
   "id": "bb115cdc",
   "metadata": {},
   "outputs": [
    {
     "name": "stdout",
     "output_type": "stream",
     "text": [
      "3\n",
      "2\n",
      "5\n"
     ]
    }
   ],
   "source": [
    "import random\n",
    "def roll_die():\n",
    "    dice1=random.randint(1,6)\n",
    "    dice2=random.randint(1,6)\n",
    "    print(dice1)\n",
    "    print(dice2)\n",
    "    print(dice1+dice2)\n",
    "    \n",
    "roll_die()"
   ]
  },
  {
   "cell_type": "markdown",
   "id": "21556d7f",
   "metadata": {},
   "source": [
    "#### 12. Write the code needed to evaluate whether a value in a group of values is negative or postive and prints an approriate message, i.e. postive, negative \n",
    "-1.59, 2.36, 1.69, 1.13, -0.91, 1.48, -0.34, 1.31, -0.74, 0.2"
   ]
  },
  {
   "cell_type": "code",
   "execution_count": 25,
   "id": "d6c38ecb",
   "metadata": {},
   "outputs": [
    {
     "name": "stdout",
     "output_type": "stream",
     "text": [
      "Negative\n",
      "Positive\n",
      "Positive\n",
      "Positive\n",
      "Negative\n",
      "Positive\n",
      "Negative\n",
      "Positive\n",
      "Negative\n",
      "Positive\n"
     ]
    }
   ],
   "source": [
    "list3=[-1.59, 2.36, 1.69, 1.13, -0.91, 1.48, -0.34, 1.31, -0.74, 0.2]\n",
    "\n",
    "for value in list3:\n",
    "    if value >= 0:\n",
    "        print('Positive')\n",
    "    else:\n",
    "        print('Negative')\n"
   ]
  },
  {
   "cell_type": "markdown",
   "id": "8cafe65c",
   "metadata": {},
   "source": [
    "#### 14.  Complete the following:\n",
    "1. Write a program that generates 500 random integers from 1 to n, for example, the first integer will be 1 the second will be 1 or 2, the fifth between 1 and 5, and so on.\n",
    "2. The program should write each integer to a file \n",
    "3. Once all integers are written close the file\n",
    "\n",
    "##### Part 2\n",
    "1. Open and read the file into a list\n",
    "2. Create a line plot of the data"
   ]
  },
  {
   "cell_type": "code",
   "execution_count": 34,
   "id": "60a910bb",
   "metadata": {},
   "outputs": [],
   "source": [
    "import random\n",
    "import matplotlib.pyplot as plt\n",
    "\n",
    "def random_int(n):\n",
    "    file=open('file_name.csv','w')\n",
    "    for i in range(1,n+1):\n",
    "        random_number=random.randint(1,i)\n",
    "        file.write(str(random_number) + '\\n')\n",
    "    file.close()\n",
    "    \n",
    "random_int(500)    "
   ]
  },
  {
   "cell_type": "code",
   "execution_count": 38,
   "id": "d6b4180c",
   "metadata": {},
   "outputs": [
    {
     "data": {
      "image/png": "[encoded data removed]",
      "text/plain": [
       "<Figure size 640x480 with 1 Axes>"
      ]
     },
     "metadata": {},
     "output_type": "display_data"
    }
   ],
   "source": [
    "def line_plot(name):\n",
    "    file=open(name)\n",
    "    text_list=[]\n",
    "    for line in file:\n",
    "        line=int(line.strip())\n",
    "        text_list.append(line)\n",
    "\n",
    "    plt.plot(text_list)\n",
    "    plt.title('Random Numbers Line Plot')\n",
    "    plt.xlabel('Number between 1 and N')\n",
    "    plt.ylabel('Frequency')\n",
    "    plt.show\n",
    "    \n",
    "line_plot('file_name.csv')"
   ]
  },
  {
   "cell_type": "code",
   "execution_count": null,
   "id": "0baab718",
   "metadata": {},
   "outputs": [],
   "source": []
  }
 ],
 "metadata": {
  "kernelspec": {
   "display_name": "Python 3 (ipykernel)",
   "language": "python",
   "name": "python3"
  },
  "language_info": {
   "codemirror_mode": {
    "name": "ipython",
    "version": 3
   },
   "file_extension": ".py",
   "mimetype": "text/x-python",
   "name": "python",
   "nbconvert_exporter": "python",
   "pygments_lexer": "ipython3",
   "version": "3.11.5"
  }
 },
 "nbformat": 4,
 "nbformat_minor": 5
}

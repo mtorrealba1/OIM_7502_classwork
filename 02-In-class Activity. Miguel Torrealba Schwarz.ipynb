{
 "cells": [
  {
   "cell_type": "code",
   "execution_count": 5,
   "id": "b8789aaa",
   "metadata": {},
   "outputs": [
    {
     "data": {
      "text/html": [
       "<div>\n",
       "<style scoped>\n",
       "    .dataframe tbody tr th:only-of-type {\n",
       "        vertical-align: middle;\n",
       "    }\n",
       "\n",
       "    .dataframe tbody tr th {\n",
       "        vertical-align: top;\n",
       "    }\n",
       "\n",
       "    .dataframe thead th {\n",
       "        text-align: right;\n",
       "    }\n",
       "</style>\n",
       "<table border=\"1\" class=\"dataframe\">\n",
       "  <thead>\n",
       "    <tr style=\"text-align: right;\">\n",
       "      <th></th>\n",
       "      <th>year</th>\n",
       "      <th>age</th>\n",
       "      <th>maritl</th>\n",
       "      <th>race</th>\n",
       "      <th>education</th>\n",
       "      <th>region</th>\n",
       "      <th>jobclass</th>\n",
       "      <th>health</th>\n",
       "      <th>health_ins</th>\n",
       "      <th>logwage</th>\n",
       "      <th>wage</th>\n",
       "    </tr>\n",
       "  </thead>\n",
       "  <tbody>\n",
       "    <tr>\n",
       "      <th>0</th>\n",
       "      <td>2006</td>\n",
       "      <td>18</td>\n",
       "      <td>1. Never Married</td>\n",
       "      <td>1. White</td>\n",
       "      <td>1. &lt; HS Grad</td>\n",
       "      <td>2. Middle Atlantic</td>\n",
       "      <td>1. Industrial</td>\n",
       "      <td>1. &lt;=Good</td>\n",
       "      <td>2. No</td>\n",
       "      <td>4.318063</td>\n",
       "      <td>75.043154</td>\n",
       "    </tr>\n",
       "    <tr>\n",
       "      <th>1</th>\n",
       "      <td>2004</td>\n",
       "      <td>24</td>\n",
       "      <td>1. Never Married</td>\n",
       "      <td>1. White</td>\n",
       "      <td>4. College Grad</td>\n",
       "      <td>2. Middle Atlantic</td>\n",
       "      <td>2. Information</td>\n",
       "      <td>2. &gt;=Very Good</td>\n",
       "      <td>2. No</td>\n",
       "      <td>4.255273</td>\n",
       "      <td>70.476020</td>\n",
       "    </tr>\n",
       "    <tr>\n",
       "      <th>2</th>\n",
       "      <td>2003</td>\n",
       "      <td>45</td>\n",
       "      <td>2. Married</td>\n",
       "      <td>1. White</td>\n",
       "      <td>3. Some College</td>\n",
       "      <td>2. Middle Atlantic</td>\n",
       "      <td>1. Industrial</td>\n",
       "      <td>1. &lt;=Good</td>\n",
       "      <td>1. Yes</td>\n",
       "      <td>4.875061</td>\n",
       "      <td>130.982177</td>\n",
       "    </tr>\n",
       "    <tr>\n",
       "      <th>3</th>\n",
       "      <td>2003</td>\n",
       "      <td>43</td>\n",
       "      <td>2. Married</td>\n",
       "      <td>3. Asian</td>\n",
       "      <td>4. College Grad</td>\n",
       "      <td>2. Middle Atlantic</td>\n",
       "      <td>2. Information</td>\n",
       "      <td>2. &gt;=Very Good</td>\n",
       "      <td>1. Yes</td>\n",
       "      <td>5.041393</td>\n",
       "      <td>154.685293</td>\n",
       "    </tr>\n",
       "    <tr>\n",
       "      <th>4</th>\n",
       "      <td>2005</td>\n",
       "      <td>50</td>\n",
       "      <td>4. Divorced</td>\n",
       "      <td>1. White</td>\n",
       "      <td>2. HS Grad</td>\n",
       "      <td>2. Middle Atlantic</td>\n",
       "      <td>2. Information</td>\n",
       "      <td>1. &lt;=Good</td>\n",
       "      <td>1. Yes</td>\n",
       "      <td>4.318063</td>\n",
       "      <td>75.043154</td>\n",
       "    </tr>\n",
       "    <tr>\n",
       "      <th>...</th>\n",
       "      <td>...</td>\n",
       "      <td>...</td>\n",
       "      <td>...</td>\n",
       "      <td>...</td>\n",
       "      <td>...</td>\n",
       "      <td>...</td>\n",
       "      <td>...</td>\n",
       "      <td>...</td>\n",
       "      <td>...</td>\n",
       "      <td>...</td>\n",
       "      <td>...</td>\n",
       "    </tr>\n",
       "    <tr>\n",
       "      <th>2995</th>\n",
       "      <td>2008</td>\n",
       "      <td>44</td>\n",
       "      <td>2. Married</td>\n",
       "      <td>1. White</td>\n",
       "      <td>3. Some College</td>\n",
       "      <td>2. Middle Atlantic</td>\n",
       "      <td>1. Industrial</td>\n",
       "      <td>2. &gt;=Very Good</td>\n",
       "      <td>1. Yes</td>\n",
       "      <td>5.041393</td>\n",
       "      <td>154.685293</td>\n",
       "    </tr>\n",
       "    <tr>\n",
       "      <th>2996</th>\n",
       "      <td>2007</td>\n",
       "      <td>30</td>\n",
       "      <td>2. Married</td>\n",
       "      <td>1. White</td>\n",
       "      <td>2. HS Grad</td>\n",
       "      <td>2. Middle Atlantic</td>\n",
       "      <td>1. Industrial</td>\n",
       "      <td>2. &gt;=Very Good</td>\n",
       "      <td>2. No</td>\n",
       "      <td>4.602060</td>\n",
       "      <td>99.689464</td>\n",
       "    </tr>\n",
       "    <tr>\n",
       "      <th>2997</th>\n",
       "      <td>2005</td>\n",
       "      <td>27</td>\n",
       "      <td>2. Married</td>\n",
       "      <td>2. Black</td>\n",
       "      <td>1. &lt; HS Grad</td>\n",
       "      <td>2. Middle Atlantic</td>\n",
       "      <td>1. Industrial</td>\n",
       "      <td>1. &lt;=Good</td>\n",
       "      <td>2. No</td>\n",
       "      <td>4.193125</td>\n",
       "      <td>66.229408</td>\n",
       "    </tr>\n",
       "    <tr>\n",
       "      <th>2998</th>\n",
       "      <td>2005</td>\n",
       "      <td>27</td>\n",
       "      <td>1. Never Married</td>\n",
       "      <td>1. White</td>\n",
       "      <td>3. Some College</td>\n",
       "      <td>2. Middle Atlantic</td>\n",
       "      <td>1. Industrial</td>\n",
       "      <td>2. &gt;=Very Good</td>\n",
       "      <td>1. Yes</td>\n",
       "      <td>4.477121</td>\n",
       "      <td>87.981033</td>\n",
       "    </tr>\n",
       "    <tr>\n",
       "      <th>2999</th>\n",
       "      <td>2009</td>\n",
       "      <td>55</td>\n",
       "      <td>5. Separated</td>\n",
       "      <td>1. White</td>\n",
       "      <td>2. HS Grad</td>\n",
       "      <td>2. Middle Atlantic</td>\n",
       "      <td>1. Industrial</td>\n",
       "      <td>1. &lt;=Good</td>\n",
       "      <td>1. Yes</td>\n",
       "      <td>4.505150</td>\n",
       "      <td>90.481913</td>\n",
       "    </tr>\n",
       "  </tbody>\n",
       "</table>\n",
       "<p>3000 rows × 11 columns</p>\n",
       "</div>"
      ],
      "text/plain": [
       "      year  age            maritl      race        education  \\\n",
       "0     2006   18  1. Never Married  1. White     1. < HS Grad   \n",
       "1     2004   24  1. Never Married  1. White  4. College Grad   \n",
       "2     2003   45        2. Married  1. White  3. Some College   \n",
       "3     2003   43        2. Married  3. Asian  4. College Grad   \n",
       "4     2005   50       4. Divorced  1. White       2. HS Grad   \n",
       "...    ...  ...               ...       ...              ...   \n",
       "2995  2008   44        2. Married  1. White  3. Some College   \n",
       "2996  2007   30        2. Married  1. White       2. HS Grad   \n",
       "2997  2005   27        2. Married  2. Black     1. < HS Grad   \n",
       "2998  2005   27  1. Never Married  1. White  3. Some College   \n",
       "2999  2009   55      5. Separated  1. White       2. HS Grad   \n",
       "\n",
       "                  region        jobclass          health health_ins   logwage  \\\n",
       "0     2. Middle Atlantic   1. Industrial       1. <=Good      2. No  4.318063   \n",
       "1     2. Middle Atlantic  2. Information  2. >=Very Good      2. No  4.255273   \n",
       "2     2. Middle Atlantic   1. Industrial       1. <=Good     1. Yes  4.875061   \n",
       "3     2. Middle Atlantic  2. Information  2. >=Very Good     1. Yes  5.041393   \n",
       "4     2. Middle Atlantic  2. Information       1. <=Good     1. Yes  4.318063   \n",
       "...                  ...             ...             ...        ...       ...   \n",
       "2995  2. Middle Atlantic   1. Industrial  2. >=Very Good     1. Yes  5.041393   \n",
       "2996  2. Middle Atlantic   1. Industrial  2. >=Very Good      2. No  4.602060   \n",
       "2997  2. Middle Atlantic   1. Industrial       1. <=Good      2. No  4.193125   \n",
       "2998  2. Middle Atlantic   1. Industrial  2. >=Very Good     1. Yes  4.477121   \n",
       "2999  2. Middle Atlantic   1. Industrial       1. <=Good     1. Yes  4.505150   \n",
       "\n",
       "            wage  \n",
       "0      75.043154  \n",
       "1      70.476020  \n",
       "2     130.982177  \n",
       "3     154.685293  \n",
       "4      75.043154  \n",
       "...          ...  \n",
       "2995  154.685293  \n",
       "2996   99.689464  \n",
       "2997   66.229408  \n",
       "2998   87.981033  \n",
       "2999   90.481913  \n",
       "\n",
       "[3000 rows x 11 columns]"
      ]
     },
     "execution_count": 5,
     "metadata": {},
     "output_type": "execute_result"
    }
   ],
   "source": [
    "#Complete the following using the wage.csv file (located in the data folder of the class repo).\n",
    "#Upload your notebook to your personal repo, and submit the URL to the notebook on Canvas.\n",
    "\n",
    "#1. Load the dataset\n",
    "#To import and load the dataset, you need to use pandas for the function pd.read_csv()\n",
    "#We need to assign to a variable the dataframe and then call it\n",
    "\n",
    "import pandas as pd\n",
    "\n",
    "data=pd.read_csv('C:/Users/migue/OneDrive/Documentos/4. Babson/1. Miguel Torrealba Schwarz/8. Semester 2/2.OIM7502_Advanced_Programming/OIM_7502_classwork/02- Wage.csv')\n",
    "data"
   ]
  },
  {
   "cell_type": "code",
   "execution_count": 6,
   "id": "9edab5c8",
   "metadata": {},
   "outputs": [
    {
     "name": "stdout",
     "output_type": "stream",
     "text": [
      "   year  age            maritl      race        education              region  \\\n",
      "0  2006   18  1. Never Married  1. White     1. < HS Grad  2. Middle Atlantic   \n",
      "1  2004   24  1. Never Married  1. White  4. College Grad  2. Middle Atlantic   \n",
      "2  2003   45        2. Married  1. White  3. Some College  2. Middle Atlantic   \n",
      "3  2003   43        2. Married  3. Asian  4. College Grad  2. Middle Atlantic   \n",
      "4  2005   50       4. Divorced  1. White       2. HS Grad  2. Middle Atlantic   \n",
      "5  2008   54        2. Married  1. White  4. College Grad  2. Middle Atlantic   \n",
      "6  2009   44        2. Married  4. Other  3. Some College  2. Middle Atlantic   \n",
      "7  2008   30  1. Never Married  3. Asian  3. Some College  2. Middle Atlantic   \n",
      "8  2006   41  1. Never Married  2. Black  3. Some College  2. Middle Atlantic   \n",
      "9  2004   52        2. Married  1. White       2. HS Grad  2. Middle Atlantic   \n",
      "\n",
      "         jobclass          health health_ins   logwage        wage  \n",
      "0   1. Industrial       1. <=Good      2. No  4.318063   75.043154  \n",
      "1  2. Information  2. >=Very Good      2. No  4.255273   70.476020  \n",
      "2   1. Industrial       1. <=Good     1. Yes  4.875061  130.982177  \n",
      "3  2. Information  2. >=Very Good     1. Yes  5.041393  154.685293  \n",
      "4  2. Information       1. <=Good     1. Yes  4.318063   75.043154  \n",
      "5  2. Information  2. >=Very Good     1. Yes  4.845098  127.115744  \n",
      "6   1. Industrial  2. >=Very Good     1. Yes  5.133021  169.528538  \n",
      "7  2. Information       1. <=Good     1. Yes  4.716003  111.720849  \n",
      "8  2. Information  2. >=Very Good     1. Yes  4.778151  118.884359  \n",
      "9  2. Information  2. >=Very Good     1. Yes  4.857332  128.680488  \n"
     ]
    }
   ],
   "source": [
    "#2. Display the first 10 rows\n",
    "#Function data.head() will display first rows\n",
    "\n",
    "print(data.head(10))"
   ]
  },
  {
   "cell_type": "code",
   "execution_count": 7,
   "id": "a35f48b1",
   "metadata": {},
   "outputs": [
    {
     "name": "stdout",
     "output_type": "stream",
     "text": [
      "      year  age            maritl      race        education  \\\n",
      "2990  2009   50        2. Married  2. Black       2. HS Grad   \n",
      "2991  2003   26  1. Never Married  2. Black  3. Some College   \n",
      "2992  2007   35        2. Married  1. White     1. < HS Grad   \n",
      "2993  2006   31        2. Married  1. White       2. HS Grad   \n",
      "2994  2009   31        2. Married  1. White  4. College Grad   \n",
      "2995  2008   44        2. Married  1. White  3. Some College   \n",
      "2996  2007   30        2. Married  1. White       2. HS Grad   \n",
      "2997  2005   27        2. Married  2. Black     1. < HS Grad   \n",
      "2998  2005   27  1. Never Married  1. White  3. Some College   \n",
      "2999  2009   55      5. Separated  1. White       2. HS Grad   \n",
      "\n",
      "                  region        jobclass          health health_ins   logwage  \\\n",
      "2990  2. Middle Atlantic   1. Industrial  2. >=Very Good      2. No  4.886491   \n",
      "2991  2. Middle Atlantic   1. Industrial  2. >=Very Good      2. No  4.778151   \n",
      "2992  2. Middle Atlantic   1. Industrial       1. <=Good      2. No  4.698970   \n",
      "2993  2. Middle Atlantic  2. Information  2. >=Very Good     1. Yes  4.633468   \n",
      "2994  2. Middle Atlantic  2. Information  2. >=Very Good     1. Yes  4.893207   \n",
      "2995  2. Middle Atlantic   1. Industrial  2. >=Very Good     1. Yes  5.041393   \n",
      "2996  2. Middle Atlantic   1. Industrial  2. >=Very Good      2. No  4.602060   \n",
      "2997  2. Middle Atlantic   1. Industrial       1. <=Good      2. No  4.193125   \n",
      "2998  2. Middle Atlantic   1. Industrial  2. >=Very Good     1. Yes  4.477121   \n",
      "2999  2. Middle Atlantic   1. Industrial       1. <=Good     1. Yes  4.505150   \n",
      "\n",
      "            wage  \n",
      "2990  132.487821  \n",
      "2991  118.884359  \n",
      "2992  109.833986  \n",
      "2993  102.870247  \n",
      "2994  133.380608  \n",
      "2995  154.685293  \n",
      "2996   99.689464  \n",
      "2997   66.229408  \n",
      "2998   87.981033  \n",
      "2999   90.481913  \n"
     ]
    }
   ],
   "source": [
    "#3. Display the last 10 rows\n",
    "#Function data.tail() will display last rows\n",
    "\n",
    "print(data.tail(10))"
   ]
  },
  {
   "cell_type": "code",
   "execution_count": 8,
   "id": "07123b49",
   "metadata": {},
   "outputs": [
    {
     "name": "stdout",
     "output_type": "stream",
     "text": [
      "year          3000\n",
      "age           3000\n",
      "maritl        3000\n",
      "race          3000\n",
      "education     3000\n",
      "region        3000\n",
      "jobclass      3000\n",
      "health        3000\n",
      "health_ins    3000\n",
      "logwage       3000\n",
      "wage          3000\n",
      "dtype: int64\n"
     ]
    }
   ],
   "source": [
    "#4. How many rows are in the DataFrame\n",
    "#Count function will tell you the number of rows in all columns, which will allow to spot null values in case there are any\n",
    "print(data.count())"
   ]
  },
  {
   "cell_type": "code",
   "execution_count": 11,
   "id": "3c0a0551",
   "metadata": {},
   "outputs": [
    {
     "name": "stdout",
     "output_type": "stream",
     "text": [
      "<class 'pandas.core.frame.DataFrame'>\n",
      "RangeIndex: 3000 entries, 0 to 2999\n",
      "Data columns (total 11 columns):\n",
      " #   Column      Non-Null Count  Dtype  \n",
      "---  ------      --------------  -----  \n",
      " 0   year        3000 non-null   int64  \n",
      " 1   age         3000 non-null   int64  \n",
      " 2   maritl      3000 non-null   object \n",
      " 3   race        3000 non-null   object \n",
      " 4   education   3000 non-null   object \n",
      " 5   region      3000 non-null   object \n",
      " 6   jobclass    3000 non-null   object \n",
      " 7   health      3000 non-null   object \n",
      " 8   health_ins  3000 non-null   object \n",
      " 9   logwage     3000 non-null   float64\n",
      " 10  wage        3000 non-null   float64\n",
      "dtypes: float64(2), int64(2), object(7)\n",
      "memory usage: 257.9+ KB\n"
     ]
    },
    {
     "data": {
      "text/html": [
       "<div>\n",
       "<style scoped>\n",
       "    .dataframe tbody tr th:only-of-type {\n",
       "        vertical-align: middle;\n",
       "    }\n",
       "\n",
       "    .dataframe tbody tr th {\n",
       "        vertical-align: top;\n",
       "    }\n",
       "\n",
       "    .dataframe thead th {\n",
       "        text-align: right;\n",
       "    }\n",
       "</style>\n",
       "<table border=\"1\" class=\"dataframe\">\n",
       "  <thead>\n",
       "    <tr style=\"text-align: right;\">\n",
       "      <th></th>\n",
       "      <th>year</th>\n",
       "      <th>age</th>\n",
       "      <th>logwage</th>\n",
       "      <th>wage</th>\n",
       "    </tr>\n",
       "  </thead>\n",
       "  <tbody>\n",
       "    <tr>\n",
       "      <th>count</th>\n",
       "      <td>3000.000000</td>\n",
       "      <td>3000.000000</td>\n",
       "      <td>3000.000000</td>\n",
       "      <td>3000.000000</td>\n",
       "    </tr>\n",
       "    <tr>\n",
       "      <th>mean</th>\n",
       "      <td>2005.791000</td>\n",
       "      <td>42.414667</td>\n",
       "      <td>4.653905</td>\n",
       "      <td>111.703608</td>\n",
       "    </tr>\n",
       "    <tr>\n",
       "      <th>std</th>\n",
       "      <td>2.026167</td>\n",
       "      <td>11.542406</td>\n",
       "      <td>0.351753</td>\n",
       "      <td>41.728595</td>\n",
       "    </tr>\n",
       "    <tr>\n",
       "      <th>min</th>\n",
       "      <td>2003.000000</td>\n",
       "      <td>18.000000</td>\n",
       "      <td>3.000000</td>\n",
       "      <td>20.085537</td>\n",
       "    </tr>\n",
       "    <tr>\n",
       "      <th>25%</th>\n",
       "      <td>2004.000000</td>\n",
       "      <td>33.750000</td>\n",
       "      <td>4.447158</td>\n",
       "      <td>85.383940</td>\n",
       "    </tr>\n",
       "    <tr>\n",
       "      <th>50%</th>\n",
       "      <td>2006.000000</td>\n",
       "      <td>42.000000</td>\n",
       "      <td>4.653213</td>\n",
       "      <td>104.921507</td>\n",
       "    </tr>\n",
       "    <tr>\n",
       "      <th>75%</th>\n",
       "      <td>2008.000000</td>\n",
       "      <td>51.000000</td>\n",
       "      <td>4.857332</td>\n",
       "      <td>128.680488</td>\n",
       "    </tr>\n",
       "    <tr>\n",
       "      <th>max</th>\n",
       "      <td>2009.000000</td>\n",
       "      <td>80.000000</td>\n",
       "      <td>5.763128</td>\n",
       "      <td>318.342430</td>\n",
       "    </tr>\n",
       "  </tbody>\n",
       "</table>\n",
       "</div>"
      ],
      "text/plain": [
       "              year          age      logwage         wage\n",
       "count  3000.000000  3000.000000  3000.000000  3000.000000\n",
       "mean   2005.791000    42.414667     4.653905   111.703608\n",
       "std       2.026167    11.542406     0.351753    41.728595\n",
       "min    2003.000000    18.000000     3.000000    20.085537\n",
       "25%    2004.000000    33.750000     4.447158    85.383940\n",
       "50%    2006.000000    42.000000     4.653213   104.921507\n",
       "75%    2008.000000    51.000000     4.857332   128.680488\n",
       "max    2009.000000    80.000000     5.763128   318.342430"
      ]
     },
     "execution_count": 11,
     "metadata": {},
     "output_type": "execute_result"
    }
   ],
   "source": [
    "#5. Display metadata for the DataFrame\n",
    "#To gather information about the data, you can use either info or describe\n",
    "\n",
    "data.info()\n",
    "\n",
    "data.describe()"
   ]
  },
  {
   "cell_type": "code",
   "execution_count": 15,
   "id": "eade36b7",
   "metadata": {},
   "outputs": [
    {
     "name": "stdout",
     "output_type": "stream",
     "text": [
      "year    int64\n",
      "age     int64\n",
      "dtype: object\n"
     ]
    }
   ],
   "source": [
    "#6. Display the data types for two columns from the dataset\n",
    "#There is no need to create another object, nevertheless, we can use the function data[[]].dtypesto determine the data type\n",
    "\n",
    "data_types = data[['year','age']].dtypes\n",
    "print(data_types)\n"
   ]
  },
  {
   "cell_type": "code",
   "execution_count": 18,
   "id": "c9413f2f",
   "metadata": {},
   "outputs": [
    {
     "name": "stdout",
     "output_type": "stream",
     "text": [
      "Index(['year', 'age', 'maritl', 'race', 'education', 'region', 'jobclass',\n",
      "       'health', 'health_ins', 'logwage', 'wage'],\n",
      "      dtype='object')\n"
     ]
    }
   ],
   "source": [
    "#7. Display the column names from the dataset\n",
    "#Use function data.columns\n",
    "\n",
    "print(data.columns)\n"
   ]
  },
  {
   "cell_type": "code",
   "execution_count": 19,
   "id": "b10b00c6",
   "metadata": {},
   "outputs": [
    {
     "name": "stdout",
     "output_type": "stream",
     "text": [
      "RangeIndex(start=0, stop=3000, step=1)\n"
     ]
    }
   ],
   "source": [
    "#8. Display the DataFrame’s index\n",
    "#Use function data.index\n",
    "\n",
    "print(data.index)"
   ]
  },
  {
   "cell_type": "code",
   "execution_count": 20,
   "id": "6f8ea0ec",
   "metadata": {},
   "outputs": [
    {
     "name": "stdout",
     "output_type": "stream",
     "text": [
      "33000\n"
     ]
    }
   ],
   "source": [
    "#9. How many individual elements are in the DataFrame?\n",
    "\n",
    "print(data.size)\n"
   ]
  },
  {
   "cell_type": "code",
   "execution_count": 25,
   "id": "1dd4ae4f",
   "metadata": {},
   "outputs": [
    {
     "name": "stdout",
     "output_type": "stream",
     "text": [
      "Rows: 3000\n",
      "Columns: 11\n",
      "(3000, 11)\n"
     ]
    }
   ],
   "source": [
    "#10. How many columns and rows are there?\n",
    "#You can use the len function to determina the number of rows and columns or we can use shape function\n",
    "\n",
    "#Using len\n",
    "print('Rows:',len(data))\n",
    "print('Columns:',len(data.columns))\n",
    "\n",
    "#Using shape\n",
    "print(data.shape)\n"
   ]
  },
  {
   "cell_type": "code",
   "execution_count": 29,
   "id": "142ca9d6",
   "metadata": {},
   "outputs": [
    {
     "name": "stdout",
     "output_type": "stream",
     "text": [
      "count    3000.000000\n",
      "mean      111.703608\n",
      "std        41.728595\n",
      "min        20.085537\n",
      "25%        85.383940\n",
      "50%       104.921507\n",
      "75%       128.680488\n",
      "max       318.342430\n",
      "Name: wage, dtype: float64\n",
      "count    3000.000000\n",
      "mean       42.414667\n",
      "std        11.542406\n",
      "min        18.000000\n",
      "25%        33.750000\n",
      "50%        42.000000\n",
      "75%        51.000000\n",
      "max        80.000000\n",
      "Name: age, dtype: float64\n"
     ]
    }
   ],
   "source": [
    "#11. Display descriptive statistics for the wage column, and the age column\n",
    "#We will run them separately, if needed together, we would need to assign a variable (list) and then call the data.describe\n",
    "\n",
    "print(data['wage'].describe())\n",
    "print(data['age'].describe())\n"
   ]
  },
  {
   "cell_type": "code",
   "execution_count": 32,
   "id": "a184d66c",
   "metadata": {},
   "outputs": [
    {
     "name": "stdout",
     "output_type": "stream",
     "text": [
      "            wage                                                           \\\n",
      "           count        mean        std        min        25%         50%   \n",
      "race                                                                        \n",
      "1. White  2480.0  112.563666  41.733830  20.085537  86.695155  106.348256   \n",
      "2. Black   293.0  101.601177  37.162486  23.274704  81.283253   94.072715   \n",
      "3. Asian   190.0  120.288288  46.422514  34.607418  87.981033  115.375039   \n",
      "4. Other    37.0   89.973326  29.153530  38.223583  71.319639   81.283253   \n",
      "\n",
      "                                     age                                     \\\n",
      "                 75%         max   count       mean        std   min    25%   \n",
      "race                                                                          \n",
      "1. White  130.042934  314.329336  2480.0  42.394758  11.365655  18.0  34.00   \n",
      "2. Black  117.146817  318.342430   293.0  43.563140  13.012913  18.0  33.00   \n",
      "3. Asian  144.828129  299.262977   190.0  41.821053  11.218823  22.0  32.25   \n",
      "4. Other  104.921507  169.528538    37.0  37.702703  11.553895  21.0  28.00   \n",
      "\n",
      "                            \n",
      "           50%   75%   max  \n",
      "race                        \n",
      "1. White  42.0  51.0  80.0  \n",
      "2. Black  44.0  52.0  75.0  \n",
      "3. Asian  40.0  50.0  76.0  \n",
      "4. Other  39.0  47.0  65.0  \n"
     ]
    }
   ],
   "source": [
    "#12. Display descriptive statistics for the wage and age columns, by each race\n",
    "#Will require filtering with groupby\n",
    "#The double bracket is needed to ensure the table format, it creates a subset with those columns only\n",
    "\n",
    "print(data.groupby('race')[['wage','age']].describe())\n"
   ]
  },
  {
   "cell_type": "code",
   "execution_count": 36,
   "id": "df139806",
   "metadata": {},
   "outputs": [
    {
     "name": "stdout",
     "output_type": "stream",
     "text": [
      "111.70360820174345\n",
      "104.921506533664\n"
     ]
    }
   ],
   "source": [
    "#13. What do the mean and median values of wage tell us about the data?\n",
    "#We use the data.mean() & the data.median() functions, using the brackets to define which column\n",
    "\n",
    "print(data['wage'].mean())\n",
    "\n",
    "print(data['wage'].median())\n",
    "\n",
    "#Considering that 111.70 is the average and the median is $104.92\n",
    "#We can conclude that the data is not heavily skewed, considering they are both close to each other.\n",
    "#We can conclude that there are wages high enough to move the average higher than a complete normal distribution\n"
   ]
  },
  {
   "cell_type": "code",
   "execution_count": 37,
   "id": "3471f9b0",
   "metadata": {},
   "outputs": [
    {
     "name": "stdout",
     "output_type": "stream",
     "text": [
      "      age        wage\n",
      "0      18   75.043154\n",
      "1      24   70.476020\n",
      "2      45  130.982177\n",
      "3      43  154.685293\n",
      "4      50   75.043154\n",
      "...   ...         ...\n",
      "2995   44  154.685293\n",
      "2996   30   99.689464\n",
      "2997   27   66.229408\n",
      "2998   27   87.981033\n",
      "2999   55   90.481913\n",
      "\n",
      "[3000 rows x 2 columns]\n"
     ]
    }
   ],
   "source": [
    "#14. Display the age and wage columns only\n",
    "#Remembering that the double brackets are needed for the table format\n",
    "\n",
    "print(data[['age','wage']])\n"
   ]
  },
  {
   "cell_type": "code",
   "execution_count": 38,
   "id": "89f648ff",
   "metadata": {},
   "outputs": [
    {
     "name": "stdout",
     "output_type": "stream",
     "text": [
      "0.19563720156358866\n"
     ]
    }
   ],
   "source": [
    "#15. Are these two columns correlated?\n",
    "\n",
    "print(data['age'].corr(data['wage']))\n",
    "\n",
    "#These two are not heavily correlated since the number is far from 1\n"
   ]
  },
  {
   "cell_type": "code",
   "execution_count": 40,
   "id": "b487874c",
   "metadata": {},
   "outputs": [
    {
     "name": "stdout",
     "output_type": "stream",
     "text": [
      "            wage\n",
      "206   318.342430\n",
      "1229  318.342430\n",
      "503   314.329336\n",
      "1293  311.934569\n",
      "1112  309.571771\n",
      "2712  309.571771\n",
      "2893  299.262977\n",
      "2925  295.991250\n",
      "489   284.524741\n",
      "347   281.745971\n"
     ]
    }
   ],
   "source": [
    "#16. Display the top 10 salaries\n",
    "\n",
    "print(data[['wage']].nlargest(10, 'wage'))\n"
   ]
  },
  {
   "cell_type": "code",
   "execution_count": 42,
   "id": "4faca42f",
   "metadata": {},
   "outputs": [
    {
     "name": "stdout",
     "output_type": "stream",
     "text": [
      "race    \n",
      "1. White    2480\n",
      "2. Black     293\n",
      "3. Asian     190\n",
      "4. Other      37\n",
      "Name: count, dtype: int64\n"
     ]
    }
   ],
   "source": [
    "#17. Display the counts of each race in the dataset\n",
    "#Use the function value_counts() used to count the occurrences of unique values in a Series (a single column of a DataFrame)\n",
    "\n",
    "print(data[['race']].value_counts())\n"
   ]
  },
  {
   "cell_type": "code",
   "execution_count": 43,
   "id": "3d9d8b16",
   "metadata": {},
   "outputs": [
    {
     "name": "stdout",
     "output_type": "stream",
     "text": [
      "race\n",
      "1. White    0.826667\n",
      "2. Black    0.097667\n",
      "3. Asian    0.063333\n",
      "4. Other    0.012333\n",
      "Name: proportion, dtype: float64\n"
     ]
    }
   ],
   "source": [
    "#18. Display the proportion of each race in the dataset\n",
    "#We can see proportion in the value_count(normalize=True)\n",
    "\n",
    "print(data['race'].value_counts(normalize=True))"
   ]
  },
  {
   "cell_type": "code",
   "execution_count": 49,
   "id": "b589ab01",
   "metadata": {},
   "outputs": [
    {
     "name": "stdout",
     "output_type": "stream",
     "text": [
      "region            \n",
      "2. Middle Atlantic    3000\n",
      "Name: count, dtype: int64\n"
     ]
    },
    {
     "data": {
      "image/png": "[encoded data removed]",
      "text/plain": [
       "<Figure size 640x480 with 1 Axes>"
      ]
     },
     "metadata": {},
     "output_type": "display_data"
    }
   ],
   "source": [
    "#19. Create a bar plot of regional proportionality\n",
    "#Need to import matplotlib.pyplot to be able to create a bar plot\n",
    "\n",
    "import matplotlib.pyplot as plt\n",
    "\n",
    "#Shows there is only one region\n",
    "print(data[['region']].value_counts())\n",
    "\n",
    "data['race'].value_counts(normalize=True).plot(kind='bar')\n",
    "\n",
    "# Set plot labels and title\n",
    "plt.xlabel('Region')\n",
    "plt.ylabel('Proportion')\n",
    "plt.title('Proportion of Each Race in Each Region')\n",
    "\n",
    "# Show the plot\n",
    "plt.show()\n"
   ]
  }
 ],
 "metadata": {
  "kernelspec": {
   "display_name": "Python 3 (ipykernel)",
   "language": "python",
   "name": "python3"
  },
  "language_info": {
   "codemirror_mode": {
    "name": "ipython",
    "version": 3
   },
   "file_extension": ".py",
   "mimetype": "text/x-python",
   "name": "python",
   "nbconvert_exporter": "python",
   "pygments_lexer": "ipython3",
   "version": "3.11.5"
  }
 },
 "nbformat": 4,
 "nbformat_minor": 5
}
